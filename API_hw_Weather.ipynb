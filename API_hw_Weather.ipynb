{
 "cells": [
  {
   "cell_type": "markdown",
   "metadata": {},
   "source": [
    "<h1>API Homework: global weather <h1/>"
   ]
  },
  {
   "cell_type": "code",
   "execution_count": 1,
   "metadata": {},
   "outputs": [],
   "source": [
    "from IPython.core.interactiveshell import InteractiveShell\n",
    "InteractiveShell.ast_node_interactivity = \"all\""
   ]
  },
  {
   "cell_type": "code",
   "execution_count": 1,
   "metadata": {},
   "outputs": [],
   "source": [
    "# Dependencies and Setup\n",
    "import matplotlib.pyplot as plt\n",
    "import pandas as pd\n",
    "import numpy as np\n",
    "import requests\n",
    "import time\n",
    "\n",
    "# Import API key\n",
    "from config import api_key\n",
    "\n",
    "# Incorporated citipy to determine city based on latitude and longitude\n",
    "from citipy import citipy\n",
    "\n",
    "# Output File (CSV)\n",
    "output_data_file = \"output_data/cities.csv\"\n",
    "\n",
    "# Range of latitudes and longitudes\n",
    "lat_range = (-90, 90)\n",
    "lng_range = (-180, 180)"
   ]
  },
  {
   "cell_type": "code",
   "execution_count": 2,
   "metadata": {},
   "outputs": [],
   "source": [
    "# List for holding lat_lngs and cities\n",
    "lat_lngs = []\n",
    "cities = []\n",
    "\n",
    "# Create a set of random lat and lng combinations\n",
    "lats = np.random.uniform(low=-90.000, high=90.000, size=1500)\n",
    "lngs = np.random.uniform(low=-180.000, high=180.000, size=1500)\n",
    "lat_lngs = zip(lats, lngs)\n",
    "\n",
    "# x = list(lat_lngs)\n",
    "# print(x)"
   ]
  },
  {
   "cell_type": "code",
   "execution_count": 4,
   "metadata": {},
   "outputs": [],
   "source": [
    "# lats"
   ]
  },
  {
   "cell_type": "code",
   "execution_count": 3,
   "metadata": {},
   "outputs": [
    {
     "ename": "KeyError",
     "evalue": "'coord'",
     "output_type": "error",
     "traceback": [
      "\u001b[0;31m---------------------------------------------------------------------------\u001b[0m",
      "\u001b[0;31mKeyError\u001b[0m                                  Traceback (most recent call last)",
      "\u001b[0;32m<ipython-input-3-eb7f54a765b5>\u001b[0m in \u001b[0;36m<module>\u001b[0;34m\u001b[0m\n\u001b[1;32m     23\u001b[0m     \u001b[0mweather_request\u001b[0m \u001b[0;34m=\u001b[0m \u001b[0mrequests\u001b[0m\u001b[0;34m.\u001b[0m\u001b[0mget\u001b[0m\u001b[0;34m(\u001b[0m\u001b[0mquery_url\u001b[0m\u001b[0;34m)\u001b[0m\u001b[0;34m\u001b[0m\u001b[0;34m\u001b[0m\u001b[0m\n\u001b[1;32m     24\u001b[0m     \u001b[0mweather_json\u001b[0m \u001b[0;34m=\u001b[0m \u001b[0mweather_request\u001b[0m\u001b[0;34m.\u001b[0m\u001b[0mjson\u001b[0m\u001b[0;34m(\u001b[0m\u001b[0;34m)\u001b[0m\u001b[0;34m\u001b[0m\u001b[0;34m\u001b[0m\u001b[0m\n\u001b[0;32m---> 25\u001b[0;31m     \u001b[0mlat\u001b[0m\u001b[0;34m.\u001b[0m\u001b[0mappend\u001b[0m\u001b[0;34m(\u001b[0m\u001b[0mweather_json\u001b[0m\u001b[0;34m[\u001b[0m\u001b[0;34m\"coord\"\u001b[0m\u001b[0;34m]\u001b[0m\u001b[0;34m[\u001b[0m\u001b[0;34m'lat'\u001b[0m\u001b[0;34m]\u001b[0m\u001b[0;34m)\u001b[0m\u001b[0;34m\u001b[0m\u001b[0;34m\u001b[0m\u001b[0m\n\u001b[0m\u001b[1;32m     26\u001b[0m     \u001b[0mtemp\u001b[0m\u001b[0;34m.\u001b[0m\u001b[0mappend\u001b[0m\u001b[0;34m(\u001b[0m\u001b[0mweather_json\u001b[0m\u001b[0;34m[\u001b[0m\u001b[0;34m'main'\u001b[0m\u001b[0;34m]\u001b[0m\u001b[0;34m[\u001b[0m\u001b[0;34m'temp'\u001b[0m\u001b[0;34m]\u001b[0m\u001b[0;34m)\u001b[0m\u001b[0;34m\u001b[0m\u001b[0;34m\u001b[0m\u001b[0m\n\u001b[1;32m     27\u001b[0m     \u001b[0mhum\u001b[0m\u001b[0;34m.\u001b[0m\u001b[0mappend\u001b[0m\u001b[0;34m(\u001b[0m\u001b[0mweather_json\u001b[0m\u001b[0;34m[\u001b[0m\u001b[0;34m'main'\u001b[0m\u001b[0;34m]\u001b[0m\u001b[0;34m[\u001b[0m\u001b[0;34m'humidity'\u001b[0m\u001b[0;34m]\u001b[0m\u001b[0;34m)\u001b[0m\u001b[0;34m\u001b[0m\u001b[0;34m\u001b[0m\u001b[0m\n",
      "\u001b[0;31mKeyError\u001b[0m: 'coord'"
     ]
    }
   ],
   "source": [
    "# Identify nearest city for each lat, lng combination\n",
    "for lat_lng in lat_lngs:\n",
    "    city = citipy.nearest_city(lat_lng[0], lat_lng[1]).city_name\n",
    "    \n",
    "    # If the city is unique, then add it to a our cities list\n",
    "    if city not in cities:\n",
    "        cities.append(city)\n",
    "\n",
    "# Print the city count to confirm sufficient count\n",
    "len(cities)\n",
    "\n",
    "url = \"http://api.openweathermap.org/data/2.5/weather?\"\n",
    "units = \"metric\"\n",
    "\n",
    "lat = []\n",
    "temp = []\n",
    "hum = []\n",
    "wind = []\n",
    "cloud = []\n",
    "\n",
    "for city in cities:\n",
    "    query_url = f\"{url}appid={api_key}&q={city}&units={units}\"\n",
    "    weather_request = requests.get(query_url)\n",
    "    weather_json = weather_request.json()\n",
    "    lat.append(weather_json[\"coord\"]['lat'])\n",
    "    temp.append(weather_json['main']['temp'])\n",
    "    hum.append(weather_json['main']['humidity'])\n",
    "    wind.append(weather_json['wind']['speed'])\n",
    "    cloud.append(weather_json['clouds']['all'])"
   ]
  },
  {
   "cell_type": "code",
   "execution_count": 4,
   "metadata": {},
   "outputs": [
    {
     "name": "stdout",
     "output_type": "stream",
     "text": [
      "['yar-sale', 'marsa matruh', 'zeya', 'adrar', 'waingapu', 'mar del plata', 'jamestown', 'hermanus', 'cumana', 'sentyabrskiy', 'amderma', 'tumannyy', 'punta arenas', 'dakar', 'new norfolk', 'constitucion', 'ushuaia', 'quatre cocos', 'ibra', 'rikitea', 'awjilah', 'ancud', 'port hardy', 'gat', 'tapes', 'cape town', 'kieta', 'hualmay', 'riyadh', 'kegayli', 'colesberg', 'houthulst', 'oranjemund', 'goderich', 'port macquarie', 'atuona', 'manati', 'ust-kuyga', 'lompoc', 'yerbogachen', 'gurgan', 'georgetown', 'bulawayo', 'aklavik', 'busselton', 'port alfred', 'komsomolskiy', 'upernavik', 'fort nelson', 'antofagasta', 'mutoko', 'shingu', 'tahoua', 'ayr', 'bethel', 'laguna', 'kahului', 'zvishavane', 'dingle', 'biga', 'balsas', 'tunxi', 'khatanga', 'kismayo', 'ilulissat', 'kapaa', 'vaini', 'saskylakh', 'puerto ayora', 'iqaluit', 'bontang', 'qaanaaq', 'grand river south east', 'dunedin', 'mataura', 'santa maria', 'vagay', 'ambovombe', 'comodoro rivadavia', 'salalah', 'coracora', 'jirlau', 'hovd', 'saposoa', 'bredasdorp', 'lavrentiya', 'provideniya', 'mahebourg', 'vila velha', 'bluff', 'barentsburg', 'poum', 'barrow', 'lipari', 'port blair', 'wewak', 'dikson', 'buala', 'san carlos de bariloche', 'clyde river', 'asia', 'nara', 'tasiilaq', 'geraldton', 'nikolskoye', 'mancio lima', 'havre-saint-pierre', 'yirol', 'hobart', 'alta floresta', 'lebu', 'illoqqortoormiut', 'salym', 'jackson', 'katsuura', 'play cu', 'la primavera', 'tromso', 'caraquet', 'butaritari', 'ugoofaaru', 'east london', 'broome', 'beidao', 'arlit', 'pisco', 'port elizabeth', 'sao filipe', 'ryotsu', 'yingcheng', 'gamba', 'pandan', 'puerto cabezas', 'norman wells', 'det udom', 'tuktoyaktuk', 'victoria', 'hithadhoo', 'port lincoln', 'hobyo', 'torbay', 'le portel', 'inhambane', 'faanui', 'beloha', 'saint-philippe', 'nouadhibou', 'longjiang', 'mogok', 'anadyr', 'mount gambier', 'oxford', 'malanje', 'ahipara', 'albany', 'nizhneyansk', 'panjwin', 'vestmanna', 'kalaleh', 'puerto escondido', 'burica', 'ribeira grande', 'sembakung', 'chernyshevskiy', 'erenhot', 'samusu', 'olga', 'ayan', 'chapar', 'taolanaro', 'toliary', 'hilo', 'berlevag', 'los llanos de aridane', 'chokurdakh', 'mezen', 'bumba', 'bundaberg', 'cayenne', 'moengo', 'leczyca', 'arraial do cabo', 'cherskiy', 'byron bay', 'maragogi', 'enshi', 'den helder', 'dhuwaran', 'pierre', 'manono', 'belushya guba', 'xining', 'puerto baquerizo moreno', 'jibuti', 'inta', 'ponta do sol', 'sola', 'pevek', 'andros town', 'marienburg', 'karamay', 'hay river', 'lorengau', 'viedma', 'novobessergenevka', 'mys shmidta', 'polunochnoye', 'utiroa', 'novodugino', 'bambous virieux', 'nenjiang', 'bathsheba', 'port-gentil', 'moussoro', 'sann', 'alice springs', 'hirara', 'morros', 'yellowknife', 'nanortalik', 'coquimbo', 'chuy', 'caravelas', 'kavieng', 'cabo san lucas', 'tynda', 'yenagoa', 'dinghai', 'formosa', 'belaya gora', 'bengkulu', 'bababe', 'castro', 'greytown', 'kendari', 'chau doc', 'mehamn', 'boyolangu', 'dianopolis', 'kaitangata', 'cape canaveral', 'hasaki', 'halalo', 'petropavlovsk-kamchatskiy', 'nova granada', 'pacific grove', 'cedar rapids', 'ocos', 'luderitz', 'purpe', 'thompson', 'yulara', 'brandon', 'shache', 'brae', 'souillac', 'amapa', 'touros', 'el faiyum', 'tacuarembo', 'saldanha', 'honiara', 'cidreira', 'kasama', 'cap malheureux', 'garowe', 'tevriz', 'willowmore', 'alofi', 'lubango', 'longyearbyen', 'marzuq', 'tiksi', 'trincomalee', 'tripoli', 'praia', 'piacabucu', 'umzimvubu', 'attawapiskat', 'bonavista', 'chapais', 'nanlong', 'vardo', 'margate', 'ust-maya', 'avarua', 'saint-marc-des-carrieres', 'boda', 'severo-kurilsk', 'nizhniy kuranakh', 'rudbar', 'philadelphia', 'damietta', 'lethem', 'ribas do rio pardo', 'denia', 'hofn', 'tsihombe', 'bongandanga', 'maniitsoq', 'gurjaani', 'alyangula', 'sento se', 'shasta lake', 'faya', 'prachin buri', 'nizwa', 'praia da vitoria', 'avera', 'dicabisagan', 'nome', 'bacolod', 'bafoulabe', 'qiongshan', 'qaqortoq', 'mujiayingzi', 'hamilton', 'kroonstad', 'manica', 'paita', 'pilar', 'seewalchen', 'saint george', 'bara', 'mabilbila', 'kimbe', 'achalpur', 'cururupu', 'altea', 'zaranj', 'savannah bight', 'chicama', 'kruisfontein', 'coahuayana', 'ericeira', 'isangel', 'ciudad bolivar', 'lossiemouth', 'san cristobal', 'batagay-alyta', 'olinda', 'seoni malwa', 'klaksvik', 'tezu', 'airai', 'mazagao', 'evanston', 'babanusah', 'beruwala', 'santa isabel do rio negro', 'henties bay', 'shenzhen', 'warqla', 'sitka', 'codrington', 'pangnirtung', 'carnarvon', 'puerto del rosario', 'darhan', 'zabol', 'huarmey', 'san lazaro', 'nishihara', 'taoudenni', 'te anau', 'kloulklubed', 'high level', 'rodrigues alves', 'derzhavinsk', 'vila franca do campo', 'delmas', 'shelopugino', 'miri', 'san quintin', 'sovetskiy', 'gorkovskoye', 'sirjan', 'thinadhoo', 'tuatapere', 'kodiak', 'motygino', 'divo', 'tautira', 'vetas', 'west bay', 'jacmel', 'manaus', 'laibin', 'yantzaza', 'karaton', 'sangar', 'sao joao da barra', 'padang', 'brownsville', 'guerrero negro', 'west richland', 'tashtyp', 'pakala', 'pijijiapan', 'alexandria', 'haines junction', 'saleaula', 'grindavik', 'lagoa', 'maniwaki', 'fortuna', 'sioux lookout', 'ixtapa', 'canoinhas', 'khani', 'jos', 'fort-shevchenko', 'bubaque', 'monywa', 'havelock', 'doka', 'fernie', 'hinton', 'porto novo', 'masindi', 'rincon', 'ilebo', 'pitimbu', 'kalmunai', 'kemi', 'pundaguitan', 'rantepao', 'columbus', 'balaguer', 'hami', 'panorama', 'foumban', 'prince rupert', 'fairbanks', 'barra do garcas', 'vostok', 'luba', 'chitral', 'zhaotong', 'camana', 'esperance', 'itarema', 'san patricio', 'ust-koksa', 'alotau', 'mogadishu', 'sumbe', 'lengshuitan', 'jiddah', 'yamoussoukro', 'lata', 'clacton-on-sea', 'osakarovka', 'sarangani', 'talas', 'arman', 'katha', 'ceyhan', 'eureka', 'andenes', 'turukhansk', 'tamandare', 'van buren', 'balikpapan', 'omboue', 'curillo', 'port maria', 'necochea', 'zhigansk', 'raudeberg', 'tarko-sale', 'dunmore town', 'namatanai', 'kirakira', 'najran', 'monrovia', 'asosa', 'victor harbor', 'pringsewu', 'lithakia', 'alekseyevsk', 'tilichiki', 'bud', 'kungurtug', 'lucea', 'kihei', 'sava', 'knysna', 'rathcoole', 'kurumkan', 'banda aceh', 'akureyri', 'yeppoon', 'lola', 'satitoa', 'weligama', 'pedasi', 'kisangani', 'meyungs', 'palabuhanratu', 'miles city', 'husavik', 'nchelenge', 'tawang', 'huanan', 'ouallam', 'kamina', 'nardaran', 'nguiu', 'albion', 'vaitupu', 'labuhan', 'kuandian', 'alashtar', 'sabha', 'taltal', 'talnakh', 'casma', 'port hawkesbury', 'floro', 'bodden town', 'hun', 'manokwari', 'kensington', 'machakos', 'mahalapye', 'sydney', 'kutum', 'luau', 'salumbar', 'ulladulla', 'chara', 'lishui', 'troitskoye', 'marawi', 'doctor pedro p. pena', 'leningradskiy', 'srednekolymsk', 'aripuana', 'gweta', 'ploemeur', 'aswan', 'kodinsk', 'maceio', 'rocha', 'wahran', 'naica', 'pahrump', 'rong kwang', 'rawson', 'chernaya kholunitsa', 'alvand', 'balkhash', 'san juan ixcoy', 'kalaiya', 'abashiri', 'khazar', 'katherine', 'boa vista', 'kavaratti', 'blagoyevo', 'marcona', 'egvekinot', 'sibenik', 'kofele', 'klyuchi', 'buraydah', 'totma', 'ouargaye', 'pustoshka', 'abrego', 'moose factory', 'miandrivazo', 'sturgis', 'daru', 'trinidad', 'mudgee', 'nanae', 'terenos', 'machado', 'oussouye', 'peniche', 'vanimo', 'tigil', 'rafaela', 'butterworth', 'develi', 'saskatoon', 'miranda', 'sibu', 'acapulco', 'bolungarvik', 'turbat', 'college', 'shimoda', 'libreville', 'omsukchan', 'la asuncion', 'onguday', 'avdon', 'altay', 'wanning', 'jacareacanga', 'lazaro cardenas', 'itahari', 'inirida', 'anloga', 'neyshabur', 'agadez', 'paka', 'gornopravdinsk', 'kamenskoye', 'chirongui', 'bemidji', 'prague']\n"
     ]
    }
   ],
   "source": [
    "print(str(cities)) "
   ]
  },
  {
   "cell_type": "code",
   "execution_count": 6,
   "metadata": {},
   "outputs": [
    {
     "data": {
      "text/plain": [
       "615"
      ]
     },
     "execution_count": 6,
     "metadata": {},
     "output_type": "execute_result"
    }
   ],
   "source": [
    "len(cities)"
   ]
  },
  {
   "cell_type": "code",
   "execution_count": 8,
   "metadata": {},
   "outputs": [
    {
     "ename": "KeyError",
     "evalue": "'coord'",
     "output_type": "error",
     "traceback": [
      "\u001b[0;31m---------------------------------------------------------------------------\u001b[0m",
      "\u001b[0;31mKeyError\u001b[0m                                  Traceback (most recent call last)",
      "\u001b[0;32m<ipython-input-8-77bce0465ec2>\u001b[0m in \u001b[0;36m<module>\u001b[0;34m\u001b[0m\n\u001b[1;32m      3\u001b[0m     \u001b[0mweather_request\u001b[0m \u001b[0;34m=\u001b[0m \u001b[0mrequests\u001b[0m\u001b[0;34m.\u001b[0m\u001b[0mget\u001b[0m\u001b[0;34m(\u001b[0m\u001b[0mquery_url\u001b[0m\u001b[0;34m)\u001b[0m\u001b[0;34m\u001b[0m\u001b[0;34m\u001b[0m\u001b[0m\n\u001b[1;32m      4\u001b[0m     \u001b[0mweather_json\u001b[0m \u001b[0;34m=\u001b[0m \u001b[0mweather_request\u001b[0m\u001b[0;34m.\u001b[0m\u001b[0mjson\u001b[0m\u001b[0;34m(\u001b[0m\u001b[0;34m)\u001b[0m\u001b[0;34m\u001b[0m\u001b[0;34m\u001b[0m\u001b[0m\n\u001b[0;32m----> 5\u001b[0;31m     \u001b[0mlat\u001b[0m\u001b[0;34m.\u001b[0m\u001b[0mappend\u001b[0m\u001b[0;34m(\u001b[0m\u001b[0mweather_json\u001b[0m\u001b[0;34m[\u001b[0m\u001b[0;34m\"coord\"\u001b[0m\u001b[0;34m]\u001b[0m\u001b[0;34m[\u001b[0m\u001b[0;34m'lat'\u001b[0m\u001b[0;34m]\u001b[0m\u001b[0;34m)\u001b[0m\u001b[0;34m\u001b[0m\u001b[0;34m\u001b[0m\u001b[0m\n\u001b[0m\u001b[1;32m      6\u001b[0m     \u001b[0mtemp\u001b[0m\u001b[0;34m.\u001b[0m\u001b[0mappend\u001b[0m\u001b[0;34m(\u001b[0m\u001b[0mweather_json\u001b[0m\u001b[0;34m[\u001b[0m\u001b[0;34m'main'\u001b[0m\u001b[0;34m]\u001b[0m\u001b[0;34m[\u001b[0m\u001b[0;34m'temp'\u001b[0m\u001b[0;34m]\u001b[0m\u001b[0;34m)\u001b[0m\u001b[0;34m\u001b[0m\u001b[0;34m\u001b[0m\u001b[0m\n\u001b[1;32m      7\u001b[0m     \u001b[0mhum\u001b[0m\u001b[0;34m.\u001b[0m\u001b[0mappend\u001b[0m\u001b[0;34m(\u001b[0m\u001b[0mweather_json\u001b[0m\u001b[0;34m[\u001b[0m\u001b[0;34m'main'\u001b[0m\u001b[0;34m]\u001b[0m\u001b[0;34m[\u001b[0m\u001b[0;34m'humidity'\u001b[0m\u001b[0;34m]\u001b[0m\u001b[0;34m)\u001b[0m\u001b[0;34m\u001b[0m\u001b[0;34m\u001b[0m\u001b[0m\n",
      "\u001b[0;31mKeyError\u001b[0m: 'coord'"
     ]
    }
   ],
   "source": [
    "for city in cities:\n",
    "    query_url = f\"{url}appid={api_key}&q={city}&units={units}\"\n",
    "    weather_request = requests.get(query_url)\n",
    "    weather_json = weather_request.json()\n",
    "    lat.append(weather_json[\"coord\"]['lat'])\n",
    "    temp.append(weather_json['main']['temp'])\n",
    "    hum.append(weather_json['main']['humidity'])\n",
    "    wind.append(weather_json['wind']['speed'])\n",
    "    cloud.append(weather_json['clouds']['all'])"
   ]
  },
  {
   "cell_type": "code",
   "execution_count": 11,
   "metadata": {},
   "outputs": [
    {
     "data": {
      "text/plain": [
       "-0.6"
      ]
     },
     "execution_count": 11,
     "metadata": {},
     "output_type": "execute_result"
    }
   ],
   "source": [
    "weather_json['coord']['lon']"
   ]
  },
  {
   "cell_type": "code",
   "execution_count": 5,
   "metadata": {},
   "outputs": [
    {
     "data": {
      "text/plain": [
       "9"
      ]
     },
     "execution_count": 5,
     "metadata": {},
     "output_type": "execute_result"
    }
   ],
   "source": [
    "len(lat)"
   ]
  },
  {
   "cell_type": "code",
   "execution_count": null,
   "metadata": {},
   "outputs": [],
   "source": []
  },
  {
   "cell_type": "code",
   "execution_count": null,
   "metadata": {},
   "outputs": [],
   "source": []
  },
  {
   "cell_type": "code",
   "execution_count": 47,
   "metadata": {},
   "outputs": [
    {
     "data": {
      "text/plain": [
       "[]"
      ]
     },
     "execution_count": 47,
     "metadata": {},
     "output_type": "execute_result"
    }
   ],
   "source": [
    "hum"
   ]
  },
  {
   "cell_type": "code",
   "execution_count": 13,
   "metadata": {},
   "outputs": [
    {
     "data": {
      "text/html": [
       "<div>\n",
       "<style scoped>\n",
       "    .dataframe tbody tr th:only-of-type {\n",
       "        vertical-align: middle;\n",
       "    }\n",
       "\n",
       "    .dataframe tbody tr th {\n",
       "        vertical-align: top;\n",
       "    }\n",
       "\n",
       "    .dataframe thead th {\n",
       "        text-align: right;\n",
       "    }\n",
       "</style>\n",
       "<table border=\"1\" class=\"dataframe\">\n",
       "  <thead>\n",
       "    <tr style=\"text-align: right;\">\n",
       "      <th></th>\n",
       "      <th>City</th>\n",
       "      <th>Latitude</th>\n",
       "      <th>Temp degF</th>\n",
       "      <th>%Humidity</th>\n",
       "      <th>Wind Sp (mph)</th>\n",
       "      <th>%Cloudy</th>\n",
       "    </tr>\n",
       "  </thead>\n",
       "  <tbody>\n",
       "    <tr>\n",
       "      <th>0</th>\n",
       "      <td>edson</td>\n",
       "      <td>53.59</td>\n",
       "      <td>24.00</td>\n",
       "      <td>29</td>\n",
       "      <td>5.70</td>\n",
       "      <td>1</td>\n",
       "    </tr>\n",
       "    <tr>\n",
       "      <th>1</th>\n",
       "      <td>nicoya</td>\n",
       "      <td>10.15</td>\n",
       "      <td>24.88</td>\n",
       "      <td>69</td>\n",
       "      <td>2.10</td>\n",
       "      <td>0</td>\n",
       "    </tr>\n",
       "    <tr>\n",
       "      <th>2</th>\n",
       "      <td>veraval</td>\n",
       "      <td>49.65</td>\n",
       "      <td>16.47</td>\n",
       "      <td>93</td>\n",
       "      <td>7.20</td>\n",
       "      <td>90</td>\n",
       "    </tr>\n",
       "    <tr>\n",
       "      <th>3</th>\n",
       "      <td>rikitea</td>\n",
       "      <td>-23.12</td>\n",
       "      <td>23.25</td>\n",
       "      <td>83</td>\n",
       "      <td>5.44</td>\n",
       "      <td>0</td>\n",
       "    </tr>\n",
       "    <tr>\n",
       "      <th>4</th>\n",
       "      <td>hilo</td>\n",
       "      <td>19.71</td>\n",
       "      <td>27.49</td>\n",
       "      <td>65</td>\n",
       "      <td>3.10</td>\n",
       "      <td>75</td>\n",
       "    </tr>\n",
       "    <tr>\n",
       "      <th>5</th>\n",
       "      <td>kavaratti</td>\n",
       "      <td>10.57</td>\n",
       "      <td>27.85</td>\n",
       "      <td>76</td>\n",
       "      <td>7.36</td>\n",
       "      <td>100</td>\n",
       "    </tr>\n",
       "    <tr>\n",
       "      <th>6</th>\n",
       "      <td>faanui</td>\n",
       "      <td>-16.48</td>\n",
       "      <td>26.15</td>\n",
       "      <td>75</td>\n",
       "      <td>4.19</td>\n",
       "      <td>64</td>\n",
       "    </tr>\n",
       "    <tr>\n",
       "      <th>7</th>\n",
       "      <td>albany</td>\n",
       "      <td>42.65</td>\n",
       "      <td>24.60</td>\n",
       "      <td>39</td>\n",
       "      <td>1.50</td>\n",
       "      <td>75</td>\n",
       "    </tr>\n",
       "    <tr>\n",
       "      <th>8</th>\n",
       "      <td>punta arenas</td>\n",
       "      <td>-53.16</td>\n",
       "      <td>1.83</td>\n",
       "      <td>74</td>\n",
       "      <td>5.70</td>\n",
       "      <td>0</td>\n",
       "    </tr>\n",
       "    <tr>\n",
       "      <th>9</th>\n",
       "      <td>gazojak</td>\n",
       "      <td>41.19</td>\n",
       "      <td>17.15</td>\n",
       "      <td>32</td>\n",
       "      <td>2.47</td>\n",
       "      <td>0</td>\n",
       "    </tr>\n",
       "    <tr>\n",
       "      <th>10</th>\n",
       "      <td>trincomalee</td>\n",
       "      <td>8.58</td>\n",
       "      <td>26.15</td>\n",
       "      <td>78</td>\n",
       "      <td>3.91</td>\n",
       "      <td>93</td>\n",
       "    </tr>\n",
       "    <tr>\n",
       "      <th>11</th>\n",
       "      <td>victoria</td>\n",
       "      <td>5.28</td>\n",
       "      <td>25.24</td>\n",
       "      <td>88</td>\n",
       "      <td>1.00</td>\n",
       "      <td>75</td>\n",
       "    </tr>\n",
       "    <tr>\n",
       "      <th>12</th>\n",
       "      <td>tiksi</td>\n",
       "      <td>71.64</td>\n",
       "      <td>12.55</td>\n",
       "      <td>67</td>\n",
       "      <td>2.90</td>\n",
       "      <td>31</td>\n",
       "    </tr>\n",
       "    <tr>\n",
       "      <th>13</th>\n",
       "      <td>bluff</td>\n",
       "      <td>-23.58</td>\n",
       "      <td>19.95</td>\n",
       "      <td>59</td>\n",
       "      <td>7.34</td>\n",
       "      <td>4</td>\n",
       "    </tr>\n",
       "    <tr>\n",
       "      <th>14</th>\n",
       "      <td>souillac</td>\n",
       "      <td>45.60</td>\n",
       "      <td>19.97</td>\n",
       "      <td>73</td>\n",
       "      <td>4.10</td>\n",
       "      <td>90</td>\n",
       "    </tr>\n",
       "  </tbody>\n",
       "</table>\n",
       "</div>"
      ],
      "text/plain": [
       "            City  Latitude  Temp degF  %Humidity  Wind Sp (mph)  %Cloudy\n",
       "0          edson     53.59      24.00         29           5.70        1\n",
       "1         nicoya     10.15      24.88         69           2.10        0\n",
       "2        veraval     49.65      16.47         93           7.20       90\n",
       "3        rikitea    -23.12      23.25         83           5.44        0\n",
       "4           hilo     19.71      27.49         65           3.10       75\n",
       "5      kavaratti     10.57      27.85         76           7.36      100\n",
       "6         faanui    -16.48      26.15         75           4.19       64\n",
       "7         albany     42.65      24.60         39           1.50       75\n",
       "8   punta arenas    -53.16       1.83         74           5.70        0\n",
       "9        gazojak     41.19      17.15         32           2.47        0\n",
       "10   trincomalee      8.58      26.15         78           3.91       93\n",
       "11      victoria      5.28      25.24         88           1.00       75\n",
       "12         tiksi     71.64      12.55         67           2.90       31\n",
       "13         bluff    -23.58      19.95         59           7.34        4\n",
       "14      souillac     45.60      19.97         73           4.10       90"
      ]
     },
     "execution_count": 13,
     "metadata": {},
     "output_type": "execute_result"
    }
   ],
   "source": [
    "weather_dict = {\n",
    "    \"City\": cities,\n",
    "    \"Latitude\": lat,\n",
    "    \"Temp degF\": temp,\n",
    "    \"%Humidity\": hum,\n",
    "    \"Wind Sp (mph)\":wind,\n",
    "    \"%Cloudy\": cloud\n",
    "}\n",
    "weather_df = pd.DataFrame(weather_dict)\n",
    "weather_df"
   ]
  },
  {
   "cell_type": "code",
   "execution_count": 31,
   "metadata": {},
   "outputs": [],
   "source": [
    "# export_csv = weather_df.to_csv (r'/Users/joel/API_Homework_temp/API_Homework/export_dataframe.csv', index = None, header=True)\n"
   ]
  },
  {
   "cell_type": "code",
   "execution_count": 14,
   "metadata": {},
   "outputs": [
    {
     "data": {
      "text/plain": [
       "{'coord': {'lon': -0.6, 'lat': 45.6},\n",
       " 'weather': [{'id': 804,\n",
       "   'main': 'Clouds',\n",
       "   'description': 'overcast clouds',\n",
       "   'icon': '04n'}],\n",
       " 'base': 'stations',\n",
       " 'main': {'temp': 19.97,\n",
       "  'pressure': 1018,\n",
       "  'humidity': 73,\n",
       "  'temp_min': 19.44,\n",
       "  'temp_max': 21},\n",
       " 'visibility': 10000,\n",
       " 'wind': {'speed': 4.1, 'deg': 220},\n",
       " 'clouds': {'all': 90},\n",
       " 'dt': 1565822882,\n",
       " 'sys': {'type': 1,\n",
       "  'id': 6452,\n",
       "  'message': 0.0066,\n",
       "  'country': 'FR',\n",
       "  'sunrise': 1565845343,\n",
       "  'sunset': 1565896307},\n",
       " 'timezone': 7200,\n",
       " 'id': 3026644,\n",
       " 'name': 'Souillac',\n",
       " 'cod': 200}"
      ]
     },
     "execution_count": 14,
     "metadata": {},
     "output_type": "execute_result"
    }
   ],
   "source": [
    "weather_json"
   ]
  },
  {
   "cell_type": "code",
   "execution_count": 15,
   "metadata": {},
   "outputs": [
    {
     "data": {
      "text/plain": [
       "[24,\n",
       " 24.88,\n",
       " 16.47,\n",
       " 23.25,\n",
       " 27.49,\n",
       " 27.85,\n",
       " 26.15,\n",
       " 24.6,\n",
       " 1.83,\n",
       " 17.15,\n",
       " 26.15,\n",
       " 25.24,\n",
       " 12.55,\n",
       " 19.95,\n",
       " 19.97]"
      ]
     },
     "execution_count": 15,
     "metadata": {},
     "output_type": "execute_result"
    }
   ],
   "source": [
    "temp"
   ]
  },
  {
   "cell_type": "code",
   "execution_count": 19,
   "metadata": {},
   "outputs": [
    {
     "data": {
      "text/html": [
       "<div>\n",
       "<style scoped>\n",
       "    .dataframe tbody tr th:only-of-type {\n",
       "        vertical-align: middle;\n",
       "    }\n",
       "\n",
       "    .dataframe tbody tr th {\n",
       "        vertical-align: top;\n",
       "    }\n",
       "\n",
       "    .dataframe thead th {\n",
       "        text-align: right;\n",
       "    }\n",
       "</style>\n",
       "<table border=\"1\" class=\"dataframe\">\n",
       "  <thead>\n",
       "    <tr style=\"text-align: right;\">\n",
       "      <th></th>\n",
       "      <th>0</th>\n",
       "    </tr>\n",
       "  </thead>\n",
       "  <tbody>\n",
       "    <tr>\n",
       "      <th>0</th>\n",
       "      <td>53.59</td>\n",
       "    </tr>\n",
       "    <tr>\n",
       "      <th>1</th>\n",
       "      <td>10.15</td>\n",
       "    </tr>\n",
       "    <tr>\n",
       "      <th>2</th>\n",
       "      <td>49.65</td>\n",
       "    </tr>\n",
       "    <tr>\n",
       "      <th>3</th>\n",
       "      <td>-23.12</td>\n",
       "    </tr>\n",
       "    <tr>\n",
       "      <th>4</th>\n",
       "      <td>19.71</td>\n",
       "    </tr>\n",
       "  </tbody>\n",
       "</table>\n",
       "</div>"
      ],
      "text/plain": [
       "       0\n",
       "0  53.59\n",
       "1  10.15\n",
       "2  49.65\n",
       "3 -23.12\n",
       "4  19.71"
      ]
     },
     "execution_count": 19,
     "metadata": {},
     "output_type": "execute_result"
    },
    {
     "data": {
      "text/plain": [
       "[53.59,\n",
       " 10.15,\n",
       " 49.65,\n",
       " -23.12,\n",
       " 19.71,\n",
       " 10.57,\n",
       " -16.48,\n",
       " 42.65,\n",
       " -53.16,\n",
       " 41.19,\n",
       " 8.58,\n",
       " 5.28,\n",
       " 71.64,\n",
       " -23.58,\n",
       " 45.6]"
      ]
     },
     "execution_count": 19,
     "metadata": {},
     "output_type": "execute_result"
    }
   ],
   "source": [
    "x = pd.DataFrame(lat)\n",
    "x.head()\n",
    "lat"
   ]
  },
  {
   "cell_type": "code",
   "execution_count": 35,
   "metadata": {},
   "outputs": [],
   "source": [
    "# weather_df['Latitude']['Temp degF']"
   ]
  },
  {
   "cell_type": "code",
   "execution_count": 21,
   "metadata": {},
   "outputs": [
    {
     "data": {
      "text/html": [
       "<div>\n",
       "<style scoped>\n",
       "    .dataframe tbody tr th:only-of-type {\n",
       "        vertical-align: middle;\n",
       "    }\n",
       "\n",
       "    .dataframe tbody tr th {\n",
       "        vertical-align: top;\n",
       "    }\n",
       "\n",
       "    .dataframe thead th {\n",
       "        text-align: right;\n",
       "    }\n",
       "</style>\n",
       "<table border=\"1\" class=\"dataframe\">\n",
       "  <thead>\n",
       "    <tr style=\"text-align: right;\">\n",
       "      <th></th>\n",
       "      <th>City</th>\n",
       "      <th>Latitude</th>\n",
       "      <th>Temp degF</th>\n",
       "      <th>%Humidity</th>\n",
       "      <th>Wind Sp (mph)</th>\n",
       "      <th>%Cloudy</th>\n",
       "    </tr>\n",
       "  </thead>\n",
       "  <tbody>\n",
       "    <tr>\n",
       "      <th>0</th>\n",
       "      <td>edson</td>\n",
       "      <td>53.59</td>\n",
       "      <td>24.00</td>\n",
       "      <td>29</td>\n",
       "      <td>5.70</td>\n",
       "      <td>1</td>\n",
       "    </tr>\n",
       "    <tr>\n",
       "      <th>1</th>\n",
       "      <td>nicoya</td>\n",
       "      <td>10.15</td>\n",
       "      <td>24.88</td>\n",
       "      <td>69</td>\n",
       "      <td>2.10</td>\n",
       "      <td>0</td>\n",
       "    </tr>\n",
       "    <tr>\n",
       "      <th>2</th>\n",
       "      <td>veraval</td>\n",
       "      <td>49.65</td>\n",
       "      <td>16.47</td>\n",
       "      <td>93</td>\n",
       "      <td>7.20</td>\n",
       "      <td>90</td>\n",
       "    </tr>\n",
       "    <tr>\n",
       "      <th>3</th>\n",
       "      <td>rikitea</td>\n",
       "      <td>-23.12</td>\n",
       "      <td>23.25</td>\n",
       "      <td>83</td>\n",
       "      <td>5.44</td>\n",
       "      <td>0</td>\n",
       "    </tr>\n",
       "    <tr>\n",
       "      <th>4</th>\n",
       "      <td>hilo</td>\n",
       "      <td>19.71</td>\n",
       "      <td>27.49</td>\n",
       "      <td>65</td>\n",
       "      <td>3.10</td>\n",
       "      <td>75</td>\n",
       "    </tr>\n",
       "    <tr>\n",
       "      <th>5</th>\n",
       "      <td>kavaratti</td>\n",
       "      <td>10.57</td>\n",
       "      <td>27.85</td>\n",
       "      <td>76</td>\n",
       "      <td>7.36</td>\n",
       "      <td>100</td>\n",
       "    </tr>\n",
       "    <tr>\n",
       "      <th>6</th>\n",
       "      <td>faanui</td>\n",
       "      <td>-16.48</td>\n",
       "      <td>26.15</td>\n",
       "      <td>75</td>\n",
       "      <td>4.19</td>\n",
       "      <td>64</td>\n",
       "    </tr>\n",
       "    <tr>\n",
       "      <th>7</th>\n",
       "      <td>albany</td>\n",
       "      <td>42.65</td>\n",
       "      <td>24.60</td>\n",
       "      <td>39</td>\n",
       "      <td>1.50</td>\n",
       "      <td>75</td>\n",
       "    </tr>\n",
       "    <tr>\n",
       "      <th>8</th>\n",
       "      <td>punta arenas</td>\n",
       "      <td>-53.16</td>\n",
       "      <td>1.83</td>\n",
       "      <td>74</td>\n",
       "      <td>5.70</td>\n",
       "      <td>0</td>\n",
       "    </tr>\n",
       "    <tr>\n",
       "      <th>9</th>\n",
       "      <td>gazojak</td>\n",
       "      <td>41.19</td>\n",
       "      <td>17.15</td>\n",
       "      <td>32</td>\n",
       "      <td>2.47</td>\n",
       "      <td>0</td>\n",
       "    </tr>\n",
       "    <tr>\n",
       "      <th>10</th>\n",
       "      <td>trincomalee</td>\n",
       "      <td>8.58</td>\n",
       "      <td>26.15</td>\n",
       "      <td>78</td>\n",
       "      <td>3.91</td>\n",
       "      <td>93</td>\n",
       "    </tr>\n",
       "    <tr>\n",
       "      <th>11</th>\n",
       "      <td>victoria</td>\n",
       "      <td>5.28</td>\n",
       "      <td>25.24</td>\n",
       "      <td>88</td>\n",
       "      <td>1.00</td>\n",
       "      <td>75</td>\n",
       "    </tr>\n",
       "    <tr>\n",
       "      <th>12</th>\n",
       "      <td>tiksi</td>\n",
       "      <td>71.64</td>\n",
       "      <td>12.55</td>\n",
       "      <td>67</td>\n",
       "      <td>2.90</td>\n",
       "      <td>31</td>\n",
       "    </tr>\n",
       "    <tr>\n",
       "      <th>13</th>\n",
       "      <td>bluff</td>\n",
       "      <td>-23.58</td>\n",
       "      <td>19.95</td>\n",
       "      <td>59</td>\n",
       "      <td>7.34</td>\n",
       "      <td>4</td>\n",
       "    </tr>\n",
       "    <tr>\n",
       "      <th>14</th>\n",
       "      <td>souillac</td>\n",
       "      <td>45.60</td>\n",
       "      <td>19.97</td>\n",
       "      <td>73</td>\n",
       "      <td>4.10</td>\n",
       "      <td>90</td>\n",
       "    </tr>\n",
       "  </tbody>\n",
       "</table>\n",
       "</div>"
      ],
      "text/plain": [
       "            City  Latitude  Temp degF  %Humidity  Wind Sp (mph)  %Cloudy\n",
       "0          edson     53.59      24.00         29           5.70        1\n",
       "1         nicoya     10.15      24.88         69           2.10        0\n",
       "2        veraval     49.65      16.47         93           7.20       90\n",
       "3        rikitea    -23.12      23.25         83           5.44        0\n",
       "4           hilo     19.71      27.49         65           3.10       75\n",
       "5      kavaratti     10.57      27.85         76           7.36      100\n",
       "6         faanui    -16.48      26.15         75           4.19       64\n",
       "7         albany     42.65      24.60         39           1.50       75\n",
       "8   punta arenas    -53.16       1.83         74           5.70        0\n",
       "9        gazojak     41.19      17.15         32           2.47        0\n",
       "10   trincomalee      8.58      26.15         78           3.91       93\n",
       "11      victoria      5.28      25.24         88           1.00       75\n",
       "12         tiksi     71.64      12.55         67           2.90       31\n",
       "13         bluff    -23.58      19.95         59           7.34        4\n",
       "14      souillac     45.60      19.97         73           4.10       90"
      ]
     },
     "execution_count": 21,
     "metadata": {},
     "output_type": "execute_result"
    }
   ],
   "source": [
    "weather_df"
   ]
  },
  {
   "cell_type": "code",
   "execution_count": 23,
   "metadata": {},
   "outputs": [],
   "source": [
    "import matplotlib.pyplot as plt\n",
    "%matplotlib inline\n",
    "\n",
    "df = pd.DataFrame()\n",
    "# x_axis = np.arange(-90,90,5)\n",
    "df['lat_x'] = weather_df[\"Latitude\"]\n",
    "df['temp_y'] = weather_df['Temp degF']\n",
    "df['hum_y'] = weather_df[\"%Humidity\"]\n",
    "df['wind_y'] = weather_df[\"Wind Sp (mph)\"]\n",
    "df['cloud_y'] = weather_df[\"%Cloudy\"]"
   ]
  },
  {
   "cell_type": "code",
   "execution_count": 28,
   "metadata": {},
   "outputs": [
    {
     "data": {
      "text/plain": [
       "<matplotlib.axes._subplots.AxesSubplot at 0x12126d278>"
      ]
     },
     "execution_count": 28,
     "metadata": {},
     "output_type": "execute_result"
    },
    {
     "data": {
      "image/png": "[encoded data removed]",
      "text/plain": [
       "<Figure size 432x288 with 1 Axes>"
      ]
     },
     "metadata": {
      "needs_background": "light"
     },
     "output_type": "display_data"
    }
   ],
   "source": [
    "weather_df.plot.scatter(x='Latitude',y='Temp degF')"
   ]
  },
  {
   "cell_type": "code",
   "execution_count": 27,
   "metadata": {},
   "outputs": [
    {
     "name": "stderr",
     "output_type": "stream",
     "text": [
      "No handles with labels found to put in legend.\n"
     ]
    },
    {
     "data": {
      "image/png": "[encoded data removed]",
      "text/plain": [
       "<Figure size 432x288 with 1 Axes>"
      ]
     },
     "metadata": {
      "needs_background": "light"
     },
     "output_type": "display_data"
    }
   ],
   "source": [
    "df.plot.scatter(x=\"lat_x\",y=\"temp_y\")\n",
    "plt.legend(loc=2)\n",
    "plt.grid(axis=\"y\",color=\"lightblue\")\n",
    "plt.title(\"Precipitation: this past year\")\n",
    "plt.xlabel(\"date\")\n",
    "plt.ylabel(\"precipitation (inches)\")\n",
    "plt.show();"
   ]
  },
  {
   "cell_type": "code",
   "execution_count": null,
   "metadata": {},
   "outputs": [],
   "source": []
  },
  {
   "cell_type": "code",
   "execution_count": null,
   "metadata": {},
   "outputs": [],
   "source": []
  }
 ],
 "metadata": {
  "kernelspec": {
   "display_name": "Python 3",
   "language": "python",
   "name": "python3"
  },
  "language_info": {
   "codemirror_mode": {
    "name": "ipython",
    "version": 3
   },
   "file_extension": ".py",
   "mimetype": "text/x-python",
   "name": "python",
   "nbconvert_exporter": "python",
   "pygments_lexer": "ipython3",
   "version": "3.7.1"
  }
 },
 "nbformat": 4,
 "nbformat_minor": 2
}
